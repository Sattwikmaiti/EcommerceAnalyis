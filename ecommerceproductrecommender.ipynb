{
  "nbformat": 4,
  "nbformat_minor": 0,
  "metadata": {
    "colab": {
      "provenance": [],
      "authorship_tag": "ABX9TyOWhz1cmdD2EoL3LrBvO95+",
      "include_colab_link": true
    },
    "kernelspec": {
      "name": "python3",
      "display_name": "Python 3"
    },
    "language_info": {
      "name": "python"
    }
  },
  "cells": [
    {
      "cell_type": "markdown",
      "metadata": {
        "id": "view-in-github",
        "colab_type": "text"
      },
      "source": [
        "<a href=\"https://colab.research.google.com/github/Sattwikmaiti/EcommerceMachineModel/blob/second/ecommerceproductrecommender.ipynb\" target=\"_parent\"><img src=\"https://colab.research.google.com/assets/colab-badge.svg\" alt=\"Open In Colab\"/></a>"
      ]
    },
    {
      "cell_type": "code",
      "execution_count": null,
      "metadata": {
        "id": "YaW0FcQhm8uR",
        "colab": {
          "base_uri": "https://localhost:8080/",
          "height": 531
        },
        "outputId": "2465c031-668d-4aed-e754-ee57f345f636"
      },
      "outputs": [
        {
          "output_type": "execute_result",
          "data": {
            "text/plain": [
              "                            uniq_id            crawl_timestamp  \\\n",
              "0  c2d766ca982eca8304150849735ffef9  2016-03-25 22:59:23 +0000   \n",
              "1  7f7036a6d550aaa89d34c77bd39a5e48  2016-03-25 22:59:23 +0000   \n",
              "2  f449ec65dcbc041b6ae5e6a32717d01b  2016-03-25 22:59:23 +0000   \n",
              "3  0973b37acd0c664e3de26e97e5571454  2016-03-25 22:59:23 +0000   \n",
              "4  bc940ea42ee6bef5ac7cea3fb5cfbee7  2016-03-25 22:59:23 +0000   \n",
              "\n",
              "                                         product_url  \\\n",
              "0  http://www.flipkart.com/alisha-solid-women-s-c...   \n",
              "1  http://www.flipkart.com/fabhomedecor-fabric-do...   \n",
              "2  http://www.flipkart.com/aw-bellies/p/itmeh4grg...   \n",
              "3  http://www.flipkart.com/alisha-solid-women-s-c...   \n",
              "4  http://www.flipkart.com/sicons-all-purpose-arn...   \n",
              "\n",
              "                            product_name  \\\n",
              "0    Alisha Solid Women's Cycling Shorts   \n",
              "1    FabHomeDecor Fabric Double Sofa Bed   \n",
              "2                             AW Bellies   \n",
              "3    Alisha Solid Women's Cycling Shorts   \n",
              "4  Sicons All Purpose Arnica Dog Shampoo   \n",
              "\n",
              "                               product_category_tree               pid  \\\n",
              "0  [\"Clothing >> Women's Clothing >> Lingerie, Sl...  SRTEH2FF9KEDEFGF   \n",
              "1  [\"Furniture >> Living Room Furniture >> Sofa B...  SBEEH3QGU7MFYJFY   \n",
              "2  [\"Footwear >> Women's Footwear >> Ballerinas >...  SHOEH4GRSUBJGZXE   \n",
              "3  [\"Clothing >> Women's Clothing >> Lingerie, Sl...  SRTEH2F6HUZMQ6SJ   \n",
              "4  [\"Pet Supplies >> Grooming >> Skin & Coat Care...  PSOEH3ZYDMSYARJ5   \n",
              "\n",
              "   retail_price  discounted_price  \\\n",
              "0         999.0             379.0   \n",
              "1       32157.0           22646.0   \n",
              "2         999.0             499.0   \n",
              "3         699.0             267.0   \n",
              "4         220.0             210.0   \n",
              "\n",
              "                                               image is_FK_Advantage_product  \\\n",
              "0  [\"http://img5a.flixcart.com/image/short/u/4/a/...                   False   \n",
              "1  [\"http://img6a.flixcart.com/image/sofa-bed/j/f...                   False   \n",
              "2  [\"http://img5a.flixcart.com/image/shoe/7/z/z/r...                   False   \n",
              "3  [\"http://img5a.flixcart.com/image/short/6/2/h/...                   False   \n",
              "4  [\"http://img5a.flixcart.com/image/pet-shampoo/...                   False   \n",
              "\n",
              "                                         description       product_rating  \\\n",
              "0  Key Features of Alisha Solid Women's Cycling S...  No rating available   \n",
              "1  FabHomeDecor Fabric Double Sofa Bed (Finish Co...  No rating available   \n",
              "2  Key Features of AW Bellies Sandals Wedges Heel...  No rating available   \n",
              "3  Key Features of Alisha Solid Women's Cycling S...  No rating available   \n",
              "4  Specifications of Sicons All Purpose Arnica Do...  No rating available   \n",
              "\n",
              "        overall_rating         brand  \\\n",
              "0  No rating available        Alisha   \n",
              "1  No rating available  FabHomeDecor   \n",
              "2  No rating available            AW   \n",
              "3  No rating available        Alisha   \n",
              "4  No rating available        Sicons   \n",
              "\n",
              "                              product_specifications  \n",
              "0  {\"product_specification\"=>[{\"key\"=>\"Number of ...  \n",
              "1  {\"product_specification\"=>[{\"key\"=>\"Installati...  \n",
              "2  {\"product_specification\"=>[{\"key\"=>\"Ideal For\"...  \n",
              "3  {\"product_specification\"=>[{\"key\"=>\"Number of ...  \n",
              "4  {\"product_specification\"=>[{\"key\"=>\"Pet Type\",...  "
            ],
            "text/html": [
              "\n",
              "\n",
              "  <div id=\"df-b8434fc3-bb35-4669-8622-9ec7355b9d2d\">\n",
              "    <div class=\"colab-df-container\">\n",
              "      <div>\n",
              "<style scoped>\n",
              "    .dataframe tbody tr th:only-of-type {\n",
              "        vertical-align: middle;\n",
              "    }\n",
              "\n",
              "    .dataframe tbody tr th {\n",
              "        vertical-align: top;\n",
              "    }\n",
              "\n",
              "    .dataframe thead th {\n",
              "        text-align: right;\n",
              "    }\n",
              "</style>\n",
              "<table border=\"1\" class=\"dataframe\">\n",
              "  <thead>\n",
              "    <tr style=\"text-align: right;\">\n",
              "      <th></th>\n",
              "      <th>uniq_id</th>\n",
              "      <th>crawl_timestamp</th>\n",
              "      <th>product_url</th>\n",
              "      <th>product_name</th>\n",
              "      <th>product_category_tree</th>\n",
              "      <th>pid</th>\n",
              "      <th>retail_price</th>\n",
              "      <th>discounted_price</th>\n",
              "      <th>image</th>\n",
              "      <th>is_FK_Advantage_product</th>\n",
              "      <th>description</th>\n",
              "      <th>product_rating</th>\n",
              "      <th>overall_rating</th>\n",
              "      <th>brand</th>\n",
              "      <th>product_specifications</th>\n",
              "    </tr>\n",
              "  </thead>\n",
              "  <tbody>\n",
              "    <tr>\n",
              "      <th>0</th>\n",
              "      <td>c2d766ca982eca8304150849735ffef9</td>\n",
              "      <td>2016-03-25 22:59:23 +0000</td>\n",
              "      <td>http://www.flipkart.com/alisha-solid-women-s-c...</td>\n",
              "      <td>Alisha Solid Women's Cycling Shorts</td>\n",
              "      <td>[\"Clothing &gt;&gt; Women's Clothing &gt;&gt; Lingerie, Sl...</td>\n",
              "      <td>SRTEH2FF9KEDEFGF</td>\n",
              "      <td>999.0</td>\n",
              "      <td>379.0</td>\n",
              "      <td>[\"http://img5a.flixcart.com/image/short/u/4/a/...</td>\n",
              "      <td>False</td>\n",
              "      <td>Key Features of Alisha Solid Women's Cycling S...</td>\n",
              "      <td>No rating available</td>\n",
              "      <td>No rating available</td>\n",
              "      <td>Alisha</td>\n",
              "      <td>{\"product_specification\"=&gt;[{\"key\"=&gt;\"Number of ...</td>\n",
              "    </tr>\n",
              "    <tr>\n",
              "      <th>1</th>\n",
              "      <td>7f7036a6d550aaa89d34c77bd39a5e48</td>\n",
              "      <td>2016-03-25 22:59:23 +0000</td>\n",
              "      <td>http://www.flipkart.com/fabhomedecor-fabric-do...</td>\n",
              "      <td>FabHomeDecor Fabric Double Sofa Bed</td>\n",
              "      <td>[\"Furniture &gt;&gt; Living Room Furniture &gt;&gt; Sofa B...</td>\n",
              "      <td>SBEEH3QGU7MFYJFY</td>\n",
              "      <td>32157.0</td>\n",
              "      <td>22646.0</td>\n",
              "      <td>[\"http://img6a.flixcart.com/image/sofa-bed/j/f...</td>\n",
              "      <td>False</td>\n",
              "      <td>FabHomeDecor Fabric Double Sofa Bed (Finish Co...</td>\n",
              "      <td>No rating available</td>\n",
              "      <td>No rating available</td>\n",
              "      <td>FabHomeDecor</td>\n",
              "      <td>{\"product_specification\"=&gt;[{\"key\"=&gt;\"Installati...</td>\n",
              "    </tr>\n",
              "    <tr>\n",
              "      <th>2</th>\n",
              "      <td>f449ec65dcbc041b6ae5e6a32717d01b</td>\n",
              "      <td>2016-03-25 22:59:23 +0000</td>\n",
              "      <td>http://www.flipkart.com/aw-bellies/p/itmeh4grg...</td>\n",
              "      <td>AW Bellies</td>\n",
              "      <td>[\"Footwear &gt;&gt; Women's Footwear &gt;&gt; Ballerinas &gt;...</td>\n",
              "      <td>SHOEH4GRSUBJGZXE</td>\n",
              "      <td>999.0</td>\n",
              "      <td>499.0</td>\n",
              "      <td>[\"http://img5a.flixcart.com/image/shoe/7/z/z/r...</td>\n",
              "      <td>False</td>\n",
              "      <td>Key Features of AW Bellies Sandals Wedges Heel...</td>\n",
              "      <td>No rating available</td>\n",
              "      <td>No rating available</td>\n",
              "      <td>AW</td>\n",
              "      <td>{\"product_specification\"=&gt;[{\"key\"=&gt;\"Ideal For\"...</td>\n",
              "    </tr>\n",
              "    <tr>\n",
              "      <th>3</th>\n",
              "      <td>0973b37acd0c664e3de26e97e5571454</td>\n",
              "      <td>2016-03-25 22:59:23 +0000</td>\n",
              "      <td>http://www.flipkart.com/alisha-solid-women-s-c...</td>\n",
              "      <td>Alisha Solid Women's Cycling Shorts</td>\n",
              "      <td>[\"Clothing &gt;&gt; Women's Clothing &gt;&gt; Lingerie, Sl...</td>\n",
              "      <td>SRTEH2F6HUZMQ6SJ</td>\n",
              "      <td>699.0</td>\n",
              "      <td>267.0</td>\n",
              "      <td>[\"http://img5a.flixcart.com/image/short/6/2/h/...</td>\n",
              "      <td>False</td>\n",
              "      <td>Key Features of Alisha Solid Women's Cycling S...</td>\n",
              "      <td>No rating available</td>\n",
              "      <td>No rating available</td>\n",
              "      <td>Alisha</td>\n",
              "      <td>{\"product_specification\"=&gt;[{\"key\"=&gt;\"Number of ...</td>\n",
              "    </tr>\n",
              "    <tr>\n",
              "      <th>4</th>\n",
              "      <td>bc940ea42ee6bef5ac7cea3fb5cfbee7</td>\n",
              "      <td>2016-03-25 22:59:23 +0000</td>\n",
              "      <td>http://www.flipkart.com/sicons-all-purpose-arn...</td>\n",
              "      <td>Sicons All Purpose Arnica Dog Shampoo</td>\n",
              "      <td>[\"Pet Supplies &gt;&gt; Grooming &gt;&gt; Skin &amp; Coat Care...</td>\n",
              "      <td>PSOEH3ZYDMSYARJ5</td>\n",
              "      <td>220.0</td>\n",
              "      <td>210.0</td>\n",
              "      <td>[\"http://img5a.flixcart.com/image/pet-shampoo/...</td>\n",
              "      <td>False</td>\n",
              "      <td>Specifications of Sicons All Purpose Arnica Do...</td>\n",
              "      <td>No rating available</td>\n",
              "      <td>No rating available</td>\n",
              "      <td>Sicons</td>\n",
              "      <td>{\"product_specification\"=&gt;[{\"key\"=&gt;\"Pet Type\",...</td>\n",
              "    </tr>\n",
              "  </tbody>\n",
              "</table>\n",
              "</div>\n",
              "      <button class=\"colab-df-convert\" onclick=\"convertToInteractive('df-b8434fc3-bb35-4669-8622-9ec7355b9d2d')\"\n",
              "              title=\"Convert this dataframe to an interactive table.\"\n",
              "              style=\"display:none;\">\n",
              "\n",
              "  <svg xmlns=\"http://www.w3.org/2000/svg\" height=\"24px\"viewBox=\"0 0 24 24\"\n",
              "       width=\"24px\">\n",
              "    <path d=\"M0 0h24v24H0V0z\" fill=\"none\"/>\n",
              "    <path d=\"M18.56 5.44l.94 2.06.94-2.06 2.06-.94-2.06-.94-.94-2.06-.94 2.06-2.06.94zm-11 1L8.5 8.5l.94-2.06 2.06-.94-2.06-.94L8.5 2.5l-.94 2.06-2.06.94zm10 10l.94 2.06.94-2.06 2.06-.94-2.06-.94-.94-2.06-.94 2.06-2.06.94z\"/><path d=\"M17.41 7.96l-1.37-1.37c-.4-.4-.92-.59-1.43-.59-.52 0-1.04.2-1.43.59L10.3 9.45l-7.72 7.72c-.78.78-.78 2.05 0 2.83L4 21.41c.39.39.9.59 1.41.59.51 0 1.02-.2 1.41-.59l7.78-7.78 2.81-2.81c.8-.78.8-2.07 0-2.86zM5.41 20L4 18.59l7.72-7.72 1.47 1.35L5.41 20z\"/>\n",
              "  </svg>\n",
              "      </button>\n",
              "\n",
              "\n",
              "\n",
              "    <div id=\"df-3e5317dc-3fb2-4c7f-bece-0e42e744a640\">\n",
              "      <button class=\"colab-df-quickchart\" onclick=\"quickchart('df-3e5317dc-3fb2-4c7f-bece-0e42e744a640')\"\n",
              "              title=\"Suggest charts.\"\n",
              "              style=\"display:none;\">\n",
              "\n",
              "<svg xmlns=\"http://www.w3.org/2000/svg\" height=\"24px\"viewBox=\"0 0 24 24\"\n",
              "     width=\"24px\">\n",
              "    <g>\n",
              "        <path d=\"M19 3H5c-1.1 0-2 .9-2 2v14c0 1.1.9 2 2 2h14c1.1 0 2-.9 2-2V5c0-1.1-.9-2-2-2zM9 17H7v-7h2v7zm4 0h-2V7h2v10zm4 0h-2v-4h2v4z\"/>\n",
              "    </g>\n",
              "</svg>\n",
              "      </button>\n",
              "    </div>\n",
              "\n",
              "<style>\n",
              "  .colab-df-quickchart {\n",
              "    background-color: #E8F0FE;\n",
              "    border: none;\n",
              "    border-radius: 50%;\n",
              "    cursor: pointer;\n",
              "    display: none;\n",
              "    fill: #1967D2;\n",
              "    height: 32px;\n",
              "    padding: 0 0 0 0;\n",
              "    width: 32px;\n",
              "  }\n",
              "\n",
              "  .colab-df-quickchart:hover {\n",
              "    background-color: #E2EBFA;\n",
              "    box-shadow: 0px 1px 2px rgba(60, 64, 67, 0.3), 0px 1px 3px 1px rgba(60, 64, 67, 0.15);\n",
              "    fill: #174EA6;\n",
              "  }\n",
              "\n",
              "  [theme=dark] .colab-df-quickchart {\n",
              "    background-color: #3B4455;\n",
              "    fill: #D2E3FC;\n",
              "  }\n",
              "\n",
              "  [theme=dark] .colab-df-quickchart:hover {\n",
              "    background-color: #434B5C;\n",
              "    box-shadow: 0px 1px 3px 1px rgba(0, 0, 0, 0.15);\n",
              "    filter: drop-shadow(0px 1px 2px rgba(0, 0, 0, 0.3));\n",
              "    fill: #FFFFFF;\n",
              "  }\n",
              "</style>\n",
              "\n",
              "    <script>\n",
              "      async function quickchart(key) {\n",
              "        const containerElement = document.querySelector('#' + key);\n",
              "        const charts = await google.colab.kernel.invokeFunction(\n",
              "            'suggestCharts', [key], {});\n",
              "      }\n",
              "    </script>\n",
              "\n",
              "      <script>\n",
              "\n",
              "function displayQuickchartButton(domScope) {\n",
              "  let quickchartButtonEl =\n",
              "    domScope.querySelector('#df-3e5317dc-3fb2-4c7f-bece-0e42e744a640 button.colab-df-quickchart');\n",
              "  quickchartButtonEl.style.display =\n",
              "    google.colab.kernel.accessAllowed ? 'block' : 'none';\n",
              "}\n",
              "\n",
              "        displayQuickchartButton(document);\n",
              "      </script>\n",
              "      <style>\n",
              "    .colab-df-container {\n",
              "      display:flex;\n",
              "      flex-wrap:wrap;\n",
              "      gap: 12px;\n",
              "    }\n",
              "\n",
              "    .colab-df-convert {\n",
              "      background-color: #E8F0FE;\n",
              "      border: none;\n",
              "      border-radius: 50%;\n",
              "      cursor: pointer;\n",
              "      display: none;\n",
              "      fill: #1967D2;\n",
              "      height: 32px;\n",
              "      padding: 0 0 0 0;\n",
              "      width: 32px;\n",
              "    }\n",
              "\n",
              "    .colab-df-convert:hover {\n",
              "      background-color: #E2EBFA;\n",
              "      box-shadow: 0px 1px 2px rgba(60, 64, 67, 0.3), 0px 1px 3px 1px rgba(60, 64, 67, 0.15);\n",
              "      fill: #174EA6;\n",
              "    }\n",
              "\n",
              "    [theme=dark] .colab-df-convert {\n",
              "      background-color: #3B4455;\n",
              "      fill: #D2E3FC;\n",
              "    }\n",
              "\n",
              "    [theme=dark] .colab-df-convert:hover {\n",
              "      background-color: #434B5C;\n",
              "      box-shadow: 0px 1px 3px 1px rgba(0, 0, 0, 0.15);\n",
              "      filter: drop-shadow(0px 1px 2px rgba(0, 0, 0, 0.3));\n",
              "      fill: #FFFFFF;\n",
              "    }\n",
              "  </style>\n",
              "\n",
              "      <script>\n",
              "        const buttonEl =\n",
              "          document.querySelector('#df-b8434fc3-bb35-4669-8622-9ec7355b9d2d button.colab-df-convert');\n",
              "        buttonEl.style.display =\n",
              "          google.colab.kernel.accessAllowed ? 'block' : 'none';\n",
              "\n",
              "        async function convertToInteractive(key) {\n",
              "          const element = document.querySelector('#df-b8434fc3-bb35-4669-8622-9ec7355b9d2d');\n",
              "          const dataTable =\n",
              "            await google.colab.kernel.invokeFunction('convertToInteractive',\n",
              "                                                     [key], {});\n",
              "          if (!dataTable) return;\n",
              "\n",
              "          const docLinkHtml = 'Like what you see? Visit the ' +\n",
              "            '<a target=\"_blank\" href=https://colab.research.google.com/notebooks/data_table.ipynb>data table notebook</a>'\n",
              "            + ' to learn more about interactive tables.';\n",
              "          element.innerHTML = '';\n",
              "          dataTable['output_type'] = 'display_data';\n",
              "          await google.colab.output.renderOutput(dataTable, element);\n",
              "          const docLink = document.createElement('div');\n",
              "          docLink.innerHTML = docLinkHtml;\n",
              "          element.appendChild(docLink);\n",
              "        }\n",
              "      </script>\n",
              "    </div>\n",
              "  </div>\n"
            ]
          },
          "metadata": {},
          "execution_count": 100
        }
      ],
      "source": [
        "import pandas as pd\n",
        "import numpy as np\n",
        "import difflib #spelling mistakes from user. compare closest proximity to movies\n",
        "from sklearn.feature_extraction.text import TfidfVectorizer\n",
        "from sklearn.metrics.pairwise import cosine_similarity\n",
        "import csv\n",
        "products = pd.read_csv('flipkart_com-ecommerce_sample.csv')\n",
        "products.head()"
      ]
    },
    {
      "cell_type": "code",
      "source": [
        "products.shape"
      ],
      "metadata": {
        "colab": {
          "base_uri": "https://localhost:8080/"
        },
        "id": "bixLZmO-LnYx",
        "outputId": "0c09d83e-2539-461a-b5c7-18f24104e020"
      },
      "execution_count": null,
      "outputs": [
        {
          "output_type": "execute_result",
          "data": {
            "text/plain": [
              "(504, 15)"
            ]
          },
          "metadata": {},
          "execution_count": 87
        }
      ]
    },
    {
      "cell_type": "code",
      "source": [
        "products.info()"
      ],
      "metadata": {
        "colab": {
          "base_uri": "https://localhost:8080/"
        },
        "id": "v7DX2PLvoNB_",
        "outputId": "44afc99c-a108-4429-f9a5-01b12cb5eb92"
      },
      "execution_count": null,
      "outputs": [
        {
          "output_type": "stream",
          "name": "stdout",
          "text": [
            "<class 'pandas.core.frame.DataFrame'>\n",
            "RangeIndex: 504 entries, 0 to 503\n",
            "Data columns (total 15 columns):\n",
            " #   Column                   Non-Null Count  Dtype  \n",
            "---  ------                   --------------  -----  \n",
            " 0   uniq_id                  504 non-null    object \n",
            " 1   crawl_timestamp          503 non-null    object \n",
            " 2   product_url              503 non-null    object \n",
            " 3   product_name             503 non-null    object \n",
            " 4   product_category_tree    503 non-null    object \n",
            " 5   pid                      503 non-null    object \n",
            " 6   retail_price             500 non-null    float64\n",
            " 7   discounted_price         500 non-null    float64\n",
            " 8   image                    503 non-null    object \n",
            " 9   is_FK_Advantage_product  503 non-null    object \n",
            " 10  description              503 non-null    object \n",
            " 11  product_rating           503 non-null    object \n",
            " 12  overall_rating           503 non-null    object \n",
            " 13  brand                    204 non-null    object \n",
            " 14  product_specifications   502 non-null    object \n",
            "dtypes: float64(2), object(13)\n",
            "memory usage: 59.2+ KB\n"
          ]
        }
      ]
    },
    {
      "cell_type": "code",
      "source": [
        "products.dropna(inplace=True)\n",
        "products.isnull().sum()"
      ],
      "metadata": {
        "colab": {
          "base_uri": "https://localhost:8080/"
        },
        "id": "FoAAC9DeoiFf",
        "outputId": "927565d2-6550-4cde-84d1-0c5e8a355d36"
      },
      "execution_count": null,
      "outputs": [
        {
          "output_type": "execute_result",
          "data": {
            "text/plain": [
              "uniq_id                    0\n",
              "crawl_timestamp            0\n",
              "product_url                0\n",
              "product_name               0\n",
              "product_category_tree      0\n",
              "pid                        0\n",
              "retail_price               0\n",
              "discounted_price           0\n",
              "image                      0\n",
              "is_FK_Advantage_product    0\n",
              "description                0\n",
              "product_rating             0\n",
              "overall_rating             0\n",
              "brand                      0\n",
              "product_specifications     0\n",
              "dtype: int64"
            ]
          },
          "metadata": {},
          "execution_count": 36
        }
      ]
    },
    {
      "cell_type": "code",
      "source": [
        "products.duplicated().sum()"
      ],
      "metadata": {
        "colab": {
          "base_uri": "https://localhost:8080/"
        },
        "id": "D8xyxfRfop8x",
        "outputId": "b24d2879-b461-4a64-b503-9d9f15ae4471"
      },
      "execution_count": null,
      "outputs": [
        {
          "output_type": "execute_result",
          "data": {
            "text/plain": [
              "0"
            ]
          },
          "metadata": {},
          "execution_count": 37
        }
      ]
    },
    {
      "cell_type": "code",
      "source": [
        "products['description'][0]"
      ],
      "metadata": {
        "colab": {
          "base_uri": "https://localhost:8080/",
          "height": 87
        },
        "id": "OKJs9cLfMcvy",
        "outputId": "1d549ee6-0b06-446f-abfe-a06fb2117d84"
      },
      "execution_count": null,
      "outputs": [
        {
          "output_type": "execute_result",
          "data": {
            "text/plain": [
              "\"Key Features of Alisha Solid Women's Cycling Shorts Cotton Lycra Navy, Red, Navy,Specifications of Alisha Solid Women's Cycling Shorts Shorts Details Number of Contents in Sales Package Pack of 3 Fabric Cotton Lycra Type Cycling Shorts General Details Pattern Solid Ideal For Women's Fabric Care Gentle Machine Wash in Lukewarm Water, Do Not Bleach Additional Details Style Code ALTHT_3P_21 In the Box 3 shorts\""
            ],
            "application/vnd.google.colaboratory.intrinsic+json": {
              "type": "string"
            }
          },
          "metadata": {},
          "execution_count": 39
        }
      ]
    },
    {
      "cell_type": "code",
      "source": [
        "tfv = TfidfVectorizer()\n",
        "products['description'] = products['description'].fillna('')\n"
      ],
      "metadata": {
        "id": "KX6M_adf91-a"
      },
      "execution_count": null,
      "outputs": []
    },
    {
      "cell_type": "code",
      "source": [
        "tfv_matrix = tfv.fit_transform(products['description'])\n",
        "tfv_matrix.shape"
      ],
      "metadata": {
        "colab": {
          "base_uri": "https://localhost:8080/"
        },
        "id": "AHIE0cS5MvHE",
        "outputId": "3edf1141-5543-4bef-c8b3-777b9cc1da55"
      },
      "execution_count": null,
      "outputs": [
        {
          "output_type": "execute_result",
          "data": {
            "text/plain": [
              "(504, 3491)"
            ]
          },
          "metadata": {},
          "execution_count": 90
        }
      ]
    },
    {
      "cell_type": "code",
      "source": [
        "sig = cosine_similarity(tfv_matrix,tfv_matrix)\n",
        "sig[0]"
      ],
      "metadata": {
        "colab": {
          "base_uri": "https://localhost:8080/"
        },
        "id": "lOsiIaciM3pz",
        "outputId": "f767d22a-9c8c-4883-fc05-20d0744ae42d"
      },
      "execution_count": null,
      "outputs": [
        {
          "output_type": "execute_result",
          "data": {
            "text/plain": [
              "array([1.00000000e+00, 7.77367313e-02, 1.22736539e-01, 9.44108838e-01,\n",
              "       4.07448788e-02, 2.30760144e-02, 9.61475286e-01, 7.80031203e-02,\n",
              "       7.33209170e-02, 9.33275228e-01, 6.14813967e-02, 1.35578627e-01,\n",
              "       4.04579821e-02, 9.28487198e-01, 1.38294903e-01, 9.26177654e-01,\n",
              "       7.78934466e-02, 8.81699224e-02, 1.35412112e-01, 7.77022062e-02,\n",
              "       4.23442116e-02, 6.68409586e-01, 2.36284852e-01, 8.89481533e-02,\n",
              "       2.26724312e-03, 1.90404137e-02, 1.32939753e-02, 9.88646700e-04,\n",
              "       5.41204907e-02, 1.82616814e-02, 2.80936093e-02, 4.70716407e-02,\n",
              "       4.47579620e-02, 4.47579620e-02, 3.91489401e-02, 1.93488007e-01,\n",
              "       3.81834987e-02, 1.84024734e-01, 7.04050961e-02, 2.36831616e-01,\n",
              "       8.29981422e-02, 3.14576758e-02, 4.16758160e-02, 4.33237087e-02,\n",
              "       3.94542415e-01, 3.31356290e-01, 3.38076059e-01, 2.52908219e-02,\n",
              "       3.53513430e-02, 2.36481517e-01, 3.29525904e-01, 4.18514514e-02,\n",
              "       3.73402203e-02, 3.34363198e-01, 7.74239341e-02, 2.82871096e-01,\n",
              "       3.30577668e-01, 2.36481517e-01, 2.13485465e-01, 1.86467867e-01,\n",
              "       3.54891862e-01, 2.03236286e-01, 2.36301946e-01, 2.73972277e-01,\n",
              "       2.59027021e-01, 2.46787544e-01, 1.63659697e-01, 5.48448717e-02,\n",
              "       4.96176684e-02, 5.09246179e-02, 3.38349545e-02, 7.08913319e-02,\n",
              "       9.14825718e-02, 5.34745304e-02, 9.60797354e-02, 8.26443414e-02,\n",
              "       9.82017365e-02, 8.16229846e-02, 2.81125836e-02, 1.72166660e-01,\n",
              "       7.93271044e-02, 5.63020698e-02, 8.91768837e-02, 1.83211904e-01,\n",
              "       3.03416265e-02, 2.24120974e-02, 3.41362826e-02, 1.83890171e-02,\n",
              "       7.50872520e-03, 1.92897283e-02, 6.82242552e-03, 1.87838753e-03,\n",
              "       8.00047467e-03, 4.23564437e-02, 7.64876211e-03, 1.85833186e-02,\n",
              "       1.29610693e-03, 2.94133100e-02, 1.91423986e-03, 8.48989059e-03,\n",
              "       5.00543650e-04, 1.59653779e-03, 1.66836526e-03, 8.49179785e-03,\n",
              "       1.68131782e-03, 1.96649279e-03, 8.72391405e-03, 1.44064641e-03,\n",
              "       1.11463574e-02, 3.45942570e-02, 1.69455083e-03, 1.84489580e-02,\n",
              "       3.26102589e-02, 3.48194810e-02, 6.44078431e-03, 1.87782098e-03,\n",
              "       2.10648847e-02, 1.75937414e-03, 1.78987008e-03, 4.02269924e-02,\n",
              "       1.50423874e-03, 1.96020345e-03, 1.96195840e-03, 8.48989059e-03,\n",
              "       1.94248274e-03, 2.47321927e-02, 1.18240942e-02, 5.26647708e-02,\n",
              "       1.68458814e-03, 5.05024039e-04, 2.72547714e-02, 1.86275744e-03,\n",
              "       7.74882154e-03, 2.69543112e-02, 8.23505748e-03, 1.32772426e-03,\n",
              "       1.23390525e-03, 6.43588460e-03, 8.33740306e-03, 2.27375513e-03,\n",
              "       1.97961268e-03, 1.45396271e-03, 0.00000000e+00, 1.18251946e-02,\n",
              "       7.93213859e-03, 2.08326622e-03, 5.12503649e-03, 4.22350681e-02,\n",
              "       7.54507393e-03, 0.00000000e+00, 6.87321378e-03, 1.61727316e-03,\n",
              "       6.96682650e-03, 1.76316458e-02, 1.66493601e-03, 1.86903388e-03,\n",
              "       7.06972003e-03, 1.97961268e-03, 1.67744529e-03, 8.27734317e-03,\n",
              "       7.09230277e-02, 1.34390676e-03, 2.98425182e-02, 1.86903388e-03,\n",
              "       1.45302760e-02, 1.67088957e-03, 3.24746374e-02, 1.87782098e-03,\n",
              "       2.39671939e-02, 1.23171130e-03, 8.34621371e-03, 7.77949319e-03,\n",
              "       2.14984818e-02, 1.69455083e-03, 1.63525170e-03, 1.83711534e-03,\n",
              "       6.26743369e-03, 6.74992192e-03, 1.94248274e-03, 3.31858452e-02,\n",
              "       1.53396900e-03, 3.57305273e-02, 2.08326622e-03, 8.63808013e-03,\n",
              "       2.58525164e-02, 1.61563844e-02, 1.64645431e-03, 3.43416299e-02,\n",
              "       7.38312668e-03, 1.51878866e-03, 5.41447833e-02, 1.96649279e-03,\n",
              "       2.16293442e-03, 7.93213859e-03, 1.57080381e-03, 7.35847278e-03,\n",
              "       1.70410908e-03, 1.45434731e-03, 7.09540200e-03, 2.05921943e-03,\n",
              "       1.57080381e-03, 5.88618405e-03, 1.49532930e-03, 7.35638661e-03,\n",
              "       6.92009002e-03, 1.42992320e-03, 2.13098051e-03, 1.67088957e-03,\n",
              "       1.92105363e-03, 5.26647708e-02, 7.61953631e-03, 1.67471678e-03,\n",
              "       1.09668829e-03, 4.44190782e-02, 1.53915869e-03, 8.26029018e-03,\n",
              "       1.67493577e-03, 6.88182001e-03, 3.44657454e-02, 8.05770132e-03,\n",
              "       1.63057869e-03, 7.46568008e-03, 5.26647708e-02, 1.84854764e-03,\n",
              "       3.89640193e-02, 5.62011888e-02, 8.60930012e-03, 1.84854764e-03,\n",
              "       1.95081375e-03, 1.06861129e-02, 1.80002398e-02, 1.92105363e-03,\n",
              "       1.50254561e-03, 7.68618487e-03, 6.50373541e-03, 7.26459645e-03,\n",
              "       1.94248274e-03, 8.38129348e-03, 1.97509048e-03, 7.93213859e-03,\n",
              "       1.59653779e-03, 1.68458814e-03, 1.69970232e-02, 5.74892096e-03,\n",
              "       1.60570085e-03, 3.26102589e-02, 7.59697983e-03, 2.08326622e-03,\n",
              "       2.95319287e-02, 1.53915869e-03, 6.06221341e-03, 1.21506686e-03,\n",
              "       8.45070636e-03, 1.41985513e-03, 6.31521079e-03, 1.51450660e-03,\n",
              "       1.91019391e-03, 1.13220868e-03, 1.04710885e-02, 8.55802842e-03,\n",
              "       7.10558672e-02, 4.22350681e-02, 1.66125569e-03, 6.23303993e-03,\n",
              "       9.22607479e-03, 1.76773502e-02, 7.82216404e-03, 2.78666594e-02,\n",
              "       7.93213859e-03, 1.63057869e-03, 2.56319821e-02, 3.57203712e-02,\n",
              "       1.45115423e-03, 1.62030586e-03, 1.94240107e-03, 2.34981608e-02,\n",
              "       1.85283262e-03, 1.26831514e-03, 6.86949324e-03, 1.41985513e-03,\n",
              "       1.61225577e-02, 3.34795345e-02, 1.01613719e-03, 1.89979287e-03,\n",
              "       1.00940714e-03, 8.33740306e-03, 1.66501693e-03, 8.23505748e-03,\n",
              "       1.50423874e-03, 8.38129348e-03, 1.05409204e-03, 6.17277843e-03,\n",
              "       1.94248274e-03, 8.61809169e-03, 1.57999372e-02, 1.14503495e-03,\n",
              "       6.45620447e-02, 1.28000535e-01, 6.45620447e-02, 1.28000535e-01,\n",
              "       1.78272609e-01, 1.09878489e-01, 1.62066637e-01, 3.52880749e-02,\n",
              "       1.68918695e-01, 1.09832209e-01, 1.09954372e-01, 3.32534502e-02,\n",
              "       1.13653212e-01, 9.31803934e-02, 3.69432824e-02, 4.89464814e-02,\n",
              "       1.09792654e-01, 1.04828373e-01, 1.09792654e-01, 4.28702318e-02,\n",
              "       9.33235238e-02, 1.35420452e-01, 3.57738521e-02, 6.54036762e-02,\n",
              "       6.37523533e-02, 6.38559867e-02, 6.37523533e-02, 4.79269492e-02,\n",
              "       1.39254482e-01, 6.37523533e-02, 6.37792425e-02, 4.60854995e-02,\n",
              "       3.52206407e-02, 3.03431787e-02, 9.32796052e-02, 1.30389934e-01,\n",
              "       8.80654924e-02, 1.50839940e-01, 3.04021609e-02, 6.67257538e-02,\n",
              "       9.43978455e-02, 3.42275548e-02, 1.45558136e-01, 3.60792293e-02,\n",
              "       4.02662851e-02, 5.36731154e-02, 3.60792293e-02, 3.33562003e-02,\n",
              "       6.12563012e-02, 1.14422519e-01, 3.47412608e-02, 3.58414952e-02,\n",
              "       3.68269078e-02, 4.50988521e-02, 6.61770241e-02, 3.63501789e-02,\n",
              "       1.77551794e-01, 9.75485827e-02, 6.11035069e-02, 2.14273208e-01,\n",
              "       8.00205699e-02, 6.53411899e-02, 4.09597072e-02, 9.05531103e-04,\n",
              "       3.42619930e-02, 4.19062448e-02, 3.75393568e-02, 1.15058102e-03,\n",
              "       1.15058102e-03, 1.17893585e-03, 2.11108292e-02, 0.00000000e+00,\n",
              "       4.65812098e-02, 2.62736691e-02, 1.19145855e-03, 7.25126058e-02,\n",
              "       2.11325193e-02, 1.85170265e-02, 3.89719779e-02, 1.42955401e-02,\n",
              "       1.56558093e-03, 0.00000000e+00, 2.39883389e-02, 1.09907415e-01,\n",
              "       9.17870914e-02, 9.26481473e-02, 8.00501246e-02, 5.62173268e-02,\n",
              "       5.59277858e-02, 4.72767018e-02, 4.82205270e-02, 5.11932581e-02,\n",
              "       5.61044897e-02, 2.19642708e-02, 4.48836433e-02, 4.55088678e-02,\n",
              "       4.65049581e-02, 5.09447614e-02, 1.42506149e-02, 5.66196660e-02,\n",
              "       2.20050694e-02, 4.83114924e-02, 1.31032238e-02, 2.21253067e-02,\n",
              "       1.77460321e-02, 2.43365427e-02, 1.34673595e-02, 2.21942108e-02,\n",
              "       1.77279121e-02, 1.75176806e-02, 2.14381511e-02, 1.20326311e-02,\n",
              "       1.18276712e-02, 1.48130869e-02, 7.07166648e-03, 1.50696420e-02,\n",
              "       7.56076580e-03, 4.49793153e-02, 5.03992251e-02, 1.32300634e-03,\n",
              "       4.21365901e-02, 1.51202518e-02, 2.21691707e-02, 4.52968027e-02,\n",
              "       5.16880414e-02, 4.51400418e-02, 3.80258755e-02, 1.82453160e-02,\n",
              "       1.82918049e-02, 1.82547797e-02, 4.55718439e-02, 1.82628894e-02,\n",
              "       1.82741480e-02, 1.82453160e-02, 7.73663360e-03, 5.16293489e-02,\n",
              "       5.14912467e-02, 5.34340361e-02, 2.02364228e-02, 1.26052320e-03,\n",
              "       2.20832202e-02, 5.57714702e-02, 1.29013252e-01, 2.52777104e-02,\n",
              "       1.13809501e-03, 8.67405678e-03, 6.64538650e-03, 2.16040733e-02,\n",
              "       2.29018041e-02, 4.55907788e-02, 9.36902903e-02, 5.78296453e-02,\n",
              "       4.36986900e-02, 3.57127649e-02, 3.85342348e-02, 1.64249729e-01,\n",
              "       5.19476695e-02, 1.13787550e-01, 1.09438239e-01, 4.67865715e-02,\n",
              "       5.69930260e-02, 2.52935128e-02, 7.38508807e-03, 4.79042134e-02,\n",
              "       5.00595584e-02, 3.47897076e-03, 9.44758513e-03, 4.18561070e-02,\n",
              "       2.39153139e-02, 9.25787434e-03, 3.71262074e-02, 1.51314259e-02,\n",
              "       2.92360787e-03, 2.12970847e-02, 1.48217947e-02, 1.51314259e-02,\n",
              "       3.99653546e-02, 4.16872024e-02, 1.91287968e-02, 2.08550957e-02,\n",
              "       4.65728491e-02, 5.01436687e-02, 3.37820296e-02, 1.50671951e-02,\n",
              "       1.20779408e-03, 3.64648924e-02, 5.66196660e-02, 4.61270771e-02,\n",
              "       5.20097210e-02, 5.18953346e-02, 5.18791809e-02, 5.20097210e-02,\n",
              "       2.63178084e-02, 5.19089986e-02, 5.18883958e-02, 1.48963143e-03,\n",
              "       2.21691707e-02, 9.69606646e-03, 1.46031274e-03, 1.52081478e-02,\n",
              "       9.02521352e-03, 7.38709764e-03, 9.92492475e-02, 1.85785260e-02,\n",
              "       2.79878807e-03, 1.86014258e-02, 1.85238648e-02, 0.00000000e+00])"
            ]
          },
          "metadata": {},
          "execution_count": 101
        }
      ]
    },
    {
      "cell_type": "code",
      "source": [
        "indices = pd.Series(products.index,index=products['product_name']).drop_duplicates()\n",
        "indices.head(20)"
      ],
      "metadata": {
        "colab": {
          "base_uri": "https://localhost:8080/"
        },
        "id": "y5o2RHkx-QkD",
        "outputId": "5ce010eb-512a-4ddd-84f2-ba41909f48f4"
      },
      "execution_count": null,
      "outputs": [
        {
          "output_type": "execute_result",
          "data": {
            "text/plain": [
              "product_name\n",
              "Alisha Solid Women's Cycling Shorts                                       0\n",
              "FabHomeDecor Fabric Double Sofa Bed                                       1\n",
              "AW Bellies                                                                2\n",
              "Alisha Solid Women's Cycling Shorts                                       3\n",
              "Sicons All Purpose Arnica Dog Shampoo                                     4\n",
              "Eternal Gandhi Super Series Crystal Paper Weights  with Silver Finish     5\n",
              "Alisha Solid Women's Cycling Shorts                                       6\n",
              "FabHomeDecor Fabric Double Sofa Bed                                       7\n",
              "dilli bazaaar Bellies, Corporate Casuals, Casuals                         8\n",
              "Alisha Solid Women's Cycling Shorts                                       9\n",
              "Ladela Bellies                                                           10\n",
              "Carrel Printed Women's                                                   11\n",
              "Sicons All Purpose Tea Tree Dog Shampoo                                  12\n",
              "Alisha Solid Women's Cycling Shorts                                      13\n",
              "Freelance Vacuum Bottles 350 ml Bottle                                   14\n",
              "Alisha Solid Women's Cycling Shorts                                      15\n",
              "FabHomeDecor Fabric Double Sofa Bed                                      16\n",
              "Style Foot Bellies                                                       17\n",
              "Carrel Printed Women's                                                   18\n",
              "FabHomeDecor Fabric Double Sofa Bed                                      19\n",
              "dtype: int64"
            ]
          },
          "metadata": {},
          "execution_count": 102
        }
      ]
    },
    {
      "cell_type": "code",
      "source": [
        "def product_recommendation(title,sig=sig):\n",
        "    indx = indices[title]\n",
        "\n",
        "    #getting pairwise similarity scores\n",
        "    sig_scores = list(enumerate(sig[indx]))\n",
        "\n",
        "    # #sorting products\n",
        "    # sig_scores = sorted(sig_scores, key=lambda x: x[1], reverse=True)\n",
        "\n",
        "    #10 most similar products score\n",
        "    sig_scores = sig_scores[1:11]\n",
        "\n",
        "    #product indexes\n",
        "    product_indices = [i[0] for i in sig_scores]\n",
        "\n",
        "    #Top 10 most similar products\n",
        "    return products['product_name'].iloc[product_indices]"
      ],
      "metadata": {
        "id": "c7LI5pK1-Qm0"
      },
      "execution_count": null,
      "outputs": []
    },
    {
      "cell_type": "code",
      "source": [
        "indices.head(100)"
      ],
      "metadata": {
        "colab": {
          "base_uri": "https://localhost:8080/"
        },
        "id": "w2XFjJPdQJ7W",
        "outputId": "9a8edc13-d42e-4b62-8c40-aa51e8dc8dfa"
      },
      "execution_count": null,
      "outputs": [
        {
          "output_type": "execute_result",
          "data": {
            "text/plain": [
              "product_name\n",
              "Alisha Solid Women's Cycling Shorts                                    0\n",
              "FabHomeDecor Fabric Double Sofa Bed                                    1\n",
              "AW Bellies                                                             2\n",
              "Alisha Solid Women's Cycling Shorts                                    3\n",
              "Sicons All Purpose Arnica Dog Shampoo                                  4\n",
              "                                                                      ..\n",
              "Reckler Slim Fit Men's Jeans                                          95\n",
              "Quechua Arpenaz Novadry Boots                                         96\n",
              "Colat COLAT_MW20 Sheen Analog Watch  - For Men, Women, Boys, Girls    97\n",
              "Steppings Trendy Boots                                                98\n",
              "Rochees RW38 Analog Watch  - For Boys                                 99\n",
              "Length: 100, dtype: int64"
            ]
          },
          "metadata": {},
          "execution_count": 99
        }
      ]
    },
    {
      "cell_type": "code",
      "source": [
        "n=input(\"Enter the name of the product: \")\n",
        "print(\"\\nTop Recommended products are: \\n\")\n",
        "print(product_recommendation(n))"
      ],
      "metadata": {
        "colab": {
          "base_uri": "https://localhost:8080/"
        },
        "id": "Nr433oh-Dv0m",
        "outputId": "2364b583-07bb-4425-ceb0-1e2f268f2fd9"
      },
      "execution_count": null,
      "outputs": [
        {
          "output_type": "stream",
          "name": "stdout",
          "text": [
            "Enter the name of the product: AW Bellies\n",
            "\n",
            "Top Recommended products are: \n",
            "\n",
            "1                   FabHomeDecor Fabric Double Sofa Bed\n",
            "2                                            AW Bellies\n",
            "3                   Alisha Solid Women's Cycling Shorts\n",
            "4                 Sicons All Purpose Arnica Dog Shampoo\n",
            "5     Eternal Gandhi Super Series Crystal Paper Weig...\n",
            "6                   Alisha Solid Women's Cycling Shorts\n",
            "7                   FabHomeDecor Fabric Double Sofa Bed\n",
            "8     dilli bazaaar Bellies, Corporate Casuals, Casuals\n",
            "9                   Alisha Solid Women's Cycling Shorts\n",
            "10                                       Ladela Bellies\n",
            "Name: product_name, dtype: object\n"
          ]
        }
      ]
    }
  ]
}